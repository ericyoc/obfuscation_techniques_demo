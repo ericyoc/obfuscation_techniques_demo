{
  "nbformat": 4,
  "nbformat_minor": 0,
  "metadata": {
    "colab": {
      "provenance": [],
      "authorship_tag": "ABX9TyNJBqPfzCpAscNi+CFEX02I",
      "include_colab_link": true
    },
    "kernelspec": {
      "name": "python3",
      "display_name": "Python 3"
    },
    "language_info": {
      "name": "python"
    }
  },
  "cells": [
    {
      "cell_type": "markdown",
      "metadata": {
        "id": "view-in-github",
        "colab_type": "text"
      },
      "source": [
        "<a href=\"https://colab.research.google.com/github/ericyoc/obfuscation_techniques_demo/blob/main/obfuscaton_techniques_demo.ipynb\" target=\"_parent\"><img src=\"https://colab.research.google.com/assets/colab-badge.svg\" alt=\"Open In Colab\"/></a>"
      ]
    },
    {
      "cell_type": "code",
      "execution_count": 1,
      "metadata": {
        "id": "r61-LqskFtah"
      },
      "outputs": [],
      "source": [
        "import random\n",
        "import base64\n",
        "import zlib\n",
        "import ssl\n",
        "from prettytable import PrettyTable"
      ]
    },
    {
      "cell_type": "code",
      "source": [
        "# Original message\n",
        "def get_message():\n",
        "    return \"The secret meeting is at 10:00 AM tomorrow.\""
      ],
      "metadata": {
        "id": "dDQkDM6tF27W"
      },
      "execution_count": 2,
      "outputs": []
    },
    {
      "cell_type": "code",
      "source": [
        "# 1. Name Obfuscation\n",
        "def obfuscate_name(message):\n",
        "    obfuscated_message = \"\"\n",
        "    for char in message:\n",
        "        if char.isalpha():\n",
        "            obfuscated_message += chr(ord(char) + 1)\n",
        "        else:\n",
        "            obfuscated_message += char\n",
        "    return obfuscated_message"
      ],
      "metadata": {
        "id": "vk7gwz1uF5LN"
      },
      "execution_count": 3,
      "outputs": []
    },
    {
      "cell_type": "code",
      "source": [
        "def deobfuscate_name(obfuscated_message):\n",
        "    deobfuscated_message = \"\"\n",
        "    for char in obfuscated_message:\n",
        "        if char.isalpha():\n",
        "            deobfuscated_message += chr(ord(char) - 1)\n",
        "        else:\n",
        "            deobfuscated_message += char\n",
        "    return deobfuscated_message"
      ],
      "metadata": {
        "id": "JoIyO-qXLw6q"
      },
      "execution_count": 4,
      "outputs": []
    },
    {
      "cell_type": "code",
      "source": [
        "# 2. Control Flow Obfuscation\n",
        "def obfuscate_message(message):\n",
        "    obfuscated = \"\"\n",
        "    for i in range(len(message)):\n",
        "        if i % 2 == 0:\n",
        "            obfuscated += chr(ord(message[i]) + 1)\n",
        "        else:\n",
        "            obfuscated += chr(ord(message[i]) - 1)\n",
        "    return obfuscated"
      ],
      "metadata": {
        "id": "TpDlzHJfF6M8"
      },
      "execution_count": 5,
      "outputs": []
    },
    {
      "cell_type": "code",
      "source": [
        "def deobfuscate_message(obfuscated):\n",
        "    message = \"\"\n",
        "    for i in range(len(obfuscated)):\n",
        "        if i % 2 == 0:\n",
        "            message += chr(ord(obfuscated[i]) - 1)\n",
        "        else:\n",
        "            message += chr(ord(obfuscated[i]) + 1)\n",
        "    return message"
      ],
      "metadata": {
        "id": "qCZOmLXQF8Z5"
      },
      "execution_count": 6,
      "outputs": []
    },
    {
      "cell_type": "code",
      "source": [
        "# 3. String Encryption\n",
        "def encrypt_string(message):\n",
        "    return base64.b64encode(message.encode('utf-8')).decode('utf-8')\n",
        "\n",
        "def decrypt_string(encrypted_text):\n",
        "    return base64.b64decode(encrypted_text).decode('utf-8')"
      ],
      "metadata": {
        "id": "92bxP2a0F-Rz"
      },
      "execution_count": 7,
      "outputs": []
    },
    {
      "cell_type": "code",
      "source": [
        "# 4. Packing/Compression\n",
        "def compress_message(message):\n",
        "    return base64.b64encode(zlib.compress(message.encode('utf-8'))).decode('utf-8')\n",
        "\n",
        "def decompress_message(compressed_message):\n",
        "    return zlib.decompress(base64.b64decode(compressed_message)).decode('utf-8')"
      ],
      "metadata": {
        "id": "xIEFPwT0GA6H"
      },
      "execution_count": 8,
      "outputs": []
    },
    {
      "cell_type": "code",
      "source": [
        "# 5. Virtualization/Interpretation\n",
        "def obfuscate_message_virtualization(message):\n",
        "    obfuscated_message = \"\"\n",
        "    for char in message:\n",
        "        obfuscated_message += chr(ord(char) + 1)\n",
        "    return obfuscated_message\n",
        "\n",
        "def deobfuscate_message_virtualization(obfuscated_message):\n",
        "    deobfuscated_message = \"\"\n",
        "    for char in obfuscated_message:\n",
        "        deobfuscated_message += chr(ord(char) - 1)\n",
        "    return deobfuscated_message\n",
        "\n",
        "def interpret_message(obfuscated_message):\n",
        "    interpreted_message = deobfuscate_message_virtualization(obfuscated_message)\n",
        "    return interpreted_message"
      ],
      "metadata": {
        "id": "akmmCPpFGC7_"
      },
      "execution_count": 27,
      "outputs": []
    },
    {
      "cell_type": "code",
      "source": [
        "# 6. Junk Code Insertion\n",
        "def add_junk_code(message):\n",
        "    obfuscated_message = \"\"\n",
        "    for char in message:\n",
        "        obfuscated_message += char + \"\".join(random.choices(\"abcdefghijklmnopqrstuvwxyz\", k=random.randint(1, 3)))\n",
        "    return obfuscated_message\n",
        "\n",
        "def remove_junk_code(obfuscated_message):\n",
        "    deobfuscated_message = \"\"\n",
        "    i = 0\n",
        "    while i < len(obfuscated_message):\n",
        "        deobfuscated_message += obfuscated_message[i]\n",
        "        i += random.randint(2, 4)\n",
        "    return deobfuscated_message"
      ],
      "metadata": {
        "id": "LJXWcpFYGHLk"
      },
      "execution_count": 10,
      "outputs": []
    },
    {
      "cell_type": "code",
      "source": [
        "# 7. Opaque Predicates\n",
        "def complex_condition(x):\n",
        "    return (x * (x + 1)) % 2 == 0\n",
        "\n",
        "def obfuscate_message_opaque(message):\n",
        "    obfuscated_message = \"\"\n",
        "    for char in message:\n",
        "        if complex_condition(ord(char)):\n",
        "            obfuscated_message += chr(ord(char) + 1)\n",
        "        else:\n",
        "            obfuscated_message += chr(ord(char) - 1)\n",
        "    return obfuscated_message\n",
        "\n",
        "def deobfuscate_message_opaque(obfuscated_message):\n",
        "    deobfuscated_message = \"\"\n",
        "    for char in obfuscated_message:\n",
        "        if complex_condition(ord(char)):\n",
        "            deobfuscated_message += chr(ord(char) - 1)\n",
        "        else:\n",
        "            deobfuscated_message += chr(ord(char) + 1)\n",
        "    return deobfuscated_message\n"
      ],
      "metadata": {
        "id": "kU2mnvHxGJCT"
      },
      "execution_count": 11,
      "outputs": []
    },
    {
      "cell_type": "code",
      "source": [
        "# 8. Self-Modifying Code\n",
        "def get_message_self_modifying():\n",
        "    return \"The secret meeting is at 10:00 AM tomorrow.\"\n",
        "\n",
        "def modify_code():\n",
        "    code = '''\n",
        "def get_message_self_modifying():\n",
        "    return \"The secret meeting is at 10:00 AM tomorrow.\"\n",
        "'''\n",
        "    modified_code = code.replace('The secret meeting is at 10:00 AM tomorrow.', 'The confidential gathering will take place at noon today.')\n",
        "    exec(modified_code, globals())\n",
        "\n",
        "def restore_code():\n",
        "    code = '''\n",
        "def get_message_self_modifying():\n",
        "    return \"The secret meeting is at 10:00 AM tomorrow.\"\n",
        "'''\n",
        "    exec(code, globals())"
      ],
      "metadata": {
        "id": "l6sl3_vBGNm_"
      },
      "execution_count": 12,
      "outputs": []
    },
    {
      "cell_type": "code",
      "source": [
        "def create_comparison_table(alice_message, eve_message, bob_message):\n",
        "    table = PrettyTable()\n",
        "    table.field_names = [\"Perspective\", \"Message\"]\n",
        "    table.align[\"Perspective\"] = \"l\"\n",
        "    table.align[\"Message\"] = \"l\"\n",
        "\n",
        "    table.add_row([\"Alice (Sender)\", alice_message])\n",
        "    table.add_row([\"Eve (Eavesdropper)\", f\"\\033[1m{eve_message}\\033[0m\"])\n",
        "    table.add_row([\"Bob (Receiver)\", bob_message])\n",
        "\n",
        "    return table"
      ],
      "metadata": {
        "id": "QSnrWUhqGQi_"
      },
      "execution_count": 30,
      "outputs": []
    },
    {
      "cell_type": "code",
      "source": [
        "def create_obfuscation_techniques_table():\n",
        "    table = PrettyTable()\n",
        "    table.field_names = [\"Obfuscation Technique\", \"Description\", \"Anti-Analysis Strengths\", \"Reason for Use\"]\n",
        "    table.align[\"Obfuscation Technique\"] = \"l\"\n",
        "    table.align[\"Description\"] = \"l\"\n",
        "    table.align[\"Anti-Analysis Strengths\"] = \"l\"\n",
        "    table.align[\"Reason for Use\"] = \"l\"\n",
        "\n",
        "    table.add_row([\"Name Obfuscation\", \"Renaming variables, functions, and classes to meaningless names\",\n",
        "                   \"Makes code harder to understand and follow\", \"Protects intellectual property and deters reverse engineering\"])\n",
        "    table.add_row([\"Control Flow Obfuscation\", \"Modifying control flow with dummy code, opaque predicates, jump tables, etc.\",\n",
        "                   \"Makes logic harder to follow and analyze\", \"Protects proprietary algorithms and hinders reverse engineering\"])\n",
        "    table.add_row([\"String Encryption\", \"Encrypting string literals and decrypting at runtime\",\n",
        "                   \"Hides sensitive strings and messages\", \"Protects sensitive data and evades string-based analysis\"])\n",
        "    table.add_row([\"Packing/Compression\", \"Compressing code and data into a packed format and decompressing at runtime\",\n",
        "                   \"Hinders static analysis and reverse engineering\", \"Protects intellectual property and reduces file size\"])\n",
        "    table.add_row([\"Virtualization/Interpretation\", \"Converting code to bytecode for a custom virtual machine or interpreter\",\n",
        "                   \"Makes static analysis more difficult and hinders debugging\", \"Protects proprietary algorithms and deters reverse engineering\"])\n",
        "    table.add_row([\"Junk Code Insertion\", \"Adding non-functional code that doesn't affect the logic\",\n",
        "                   \"Makes analysis harder and increases complexity\", \"Hinders reverse engineering and deters tampering\"])\n",
        "    table.add_row([\"Opaque Predicates\", \"Adding complex conditionals that always evaluate to the same value\",\n",
        "                   \"Makes static analysis difficult and hinders understanding\", \"Protects proprietary algorithms and deters reverse engineering\"])\n",
        "    table.add_row([\"Self-Modifying Code\", \"Having the program modify its own instructions at runtime\",\n",
        "                   \"Thwarts static analysis and complicates debugging\", \"Hinders reverse engineering and evades static analysis-based detection\"])\n",
        "\n",
        "    return table"
      ],
      "metadata": {
        "id": "9rYC51ojKFBQ"
      },
      "execution_count": 31,
      "outputs": []
    },
    {
      "cell_type": "code",
      "source": [
        "def main():\n",
        "    message = get_message()\n",
        "\n",
        "    # 1. Name Obfuscation\n",
        "    obfuscated_message = obfuscate_name(message)\n",
        "    deobfuscated_message = deobfuscate_name(obfuscated_message)\n",
        "    print(\"\\n1. Name Obfuscation:\")\n",
        "    print(create_comparison_table(message, obfuscated_message, deobfuscated_message))\n",
        "\n",
        "    # 2. Control Flow Obfuscation\n",
        "    obfuscated_message = obfuscate_message(message)\n",
        "    deobfuscated_message = deobfuscate_message(obfuscated_message)\n",
        "    print(\"\\n2. Control Flow Obfuscation:\")\n",
        "    print(create_comparison_table(message, obfuscated_message, deobfuscated_message))\n",
        "\n",
        "    # 3. String Encryption\n",
        "    encrypted_message = encrypt_string(message)\n",
        "    decrypted_message = decrypt_string(encrypted_message)\n",
        "    print(\"\\n3. String Encryption:\")\n",
        "    print(create_comparison_table(message, encrypted_message, decrypted_message))\n",
        "\n",
        "    # 4. Packing/Compression\n",
        "    compressed_message = compress_message(message)\n",
        "    decompressed_message = decompress_message(compressed_message)\n",
        "    print(\"\\n4. Packing/Compression:\")\n",
        "    print(create_comparison_table(message, compressed_message, decompressed_message))\n",
        "\n",
        "    # 5. Virtualization/Interpretation\n",
        "    obfuscated_message = obfuscate_message_virtualization(message)\n",
        "    interpreted_message = interpret_message(obfuscated_message)\n",
        "    print(\"\\n5. Virtualization/Interpretation:\")\n",
        "    print(create_comparison_table(message, obfuscated_message, interpreted_message))\n",
        "\n",
        "    # 6. Junk Code Insertion\n",
        "    obfuscated_message = add_junk_code(message)\n",
        "    deobfuscated_message = remove_junk_code(obfuscated_message)\n",
        "    print(\"\\n6. Junk Code Insertion:\")\n",
        "    print(create_comparison_table(message, obfuscated_message, message))\n",
        "\n",
        "    # 7. Opaque Predicates\n",
        "    obfuscated_message = obfuscate_message_opaque(message)\n",
        "    deobfuscated_message = deobfuscate_message_opaque(obfuscated_message)\n",
        "    print(\"\\n7. Opaque Predicates:\")\n",
        "    print(create_comparison_table(message, obfuscated_message, deobfuscated_message))\n",
        "\n",
        "    # 8. Self-Modifying Code\n",
        "    original_message = get_message_self_modifying()\n",
        "    modify_code()\n",
        "    modified_message = get_message_self_modifying()\n",
        "    restore_code()\n",
        "    restored_message = get_message_self_modifying()\n",
        "    print(\"\\n8. Self-Modifying Code:\")\n",
        "    print(create_comparison_table(message, modified_message, restored_message))\n",
        "\n",
        "    # Create and print the final comparison table\n",
        "    print(\"\\nMessage Comparison Table:\")\n",
        "    final_table = create_comparison_table(\"Orignal message\", \"Obfuscated/Encrypted message\", \"Deobfuscated/Decrypted message\")\n",
        "    print(final_table)\n",
        "\n",
        "    # Create and print the obfuscation techniques table\n",
        "    print(\"\\nObfuscation Techniques Table:\")\n",
        "    techniques_table = create_obfuscation_techniques_table()\n",
        "    print(techniques_table)"
      ],
      "metadata": {
        "id": "eoe461lTGSrx"
      },
      "execution_count": 28,
      "outputs": []
    },
    {
      "cell_type": "code",
      "source": [
        "if __name__ == \"__main__\":\n",
        "    main()"
      ],
      "metadata": {
        "colab": {
          "base_uri": "https://localhost:8080/"
        },
        "id": "mt9wadTSITSf",
        "outputId": "c7802702-9db9-4839-ae7e-46d533bc3a95"
      },
      "execution_count": 32,
      "outputs": [
        {
          "output_type": "stream",
          "name": "stdout",
          "text": [
            "\n",
            "1. Name Obfuscation:\n",
            "+--------------------+---------------------------------------------+\n",
            "| Perspective        | Message                                     |\n",
            "+--------------------+---------------------------------------------+\n",
            "| Alice (Sender)     | The secret meeting is at 10:00 AM tomorrow. |\n",
            "| Eve (Eavesdropper) | \u001b[1mUif tfdsfu nffujoh jt bu 10:00 BN upnpsspx.\u001b[0m |\n",
            "| Bob (Receiver)     | The secret meeting is at 10:00 AM tomorrow. |\n",
            "+--------------------+---------------------------------------------+\n",
            "\n",
            "2. Control Flow Obfuscation:\n",
            "+--------------------+---------------------------------------------+\n",
            "| Perspective        | Message                                     |\n",
            "+--------------------+---------------------------------------------+\n",
            "| Alice (Sender)     | The secret meeting is at 10:00 AM tomorrow. |\n",
            "| Eve (Eavesdropper) | \u001b[1mUgf\u001ftddqfs!lfduhof!ht\u001fbs!0191/!@N\u001funnnsqpv/\u001b[0m                                             |\n",
            "| Bob (Receiver)     | The secret meeting is at 10:00 AM tomorrow. |\n",
            "+--------------------+---------------------------------------------+\n",
            "\n",
            "3. String Encryption:\n",
            "+--------------------+--------------------------------------------------------------+\n",
            "| Perspective        | Message                                                      |\n",
            "+--------------------+--------------------------------------------------------------+\n",
            "| Alice (Sender)     | The secret meeting is at 10:00 AM tomorrow.                  |\n",
            "| Eve (Eavesdropper) | \u001b[1mVGhlIHNlY3JldCBtZWV0aW5nIGlzIGF0IDEwOjAwIEFNIHRvbW9ycm93Lg==\u001b[0m |\n",
            "| Bob (Receiver)     | The secret meeting is at 10:00 AM tomorrow.                  |\n",
            "+--------------------+--------------------------------------------------------------+\n",
            "\n",
            "4. Packing/Compression:\n",
            "+--------------------+----------------------------------------------------------------------+\n",
            "| Perspective        | Message                                                              |\n",
            "+--------------------+----------------------------------------------------------------------+\n",
            "| Alice (Sender)     | The secret meeting is at 10:00 AM tomorrow.                          |\n",
            "| Eve (Eavesdropper) | \u001b[1meJwLyUhVKE5NLkotUchNTS3JzEtXyCxWSCxRMDSwMjBQcPRVKMnPzS8qyi/XAwBDEA5i\u001b[0m |\n",
            "| Bob (Receiver)     | The secret meeting is at 10:00 AM tomorrow.                          |\n",
            "+--------------------+----------------------------------------------------------------------+\n",
            "\n",
            "5. Virtualization/Interpretation:\n",
            "+--------------------+---------------------------------------------+\n",
            "| Perspective        | Message                                     |\n",
            "+--------------------+---------------------------------------------+\n",
            "| Alice (Sender)     | The secret meeting is at 10:00 AM tomorrow. |\n",
            "| Eve (Eavesdropper) | \u001b[1mUif!tfdsfu!nffujoh!jt!bu!21;11!BN!upnpsspx/\u001b[0m |\n",
            "| Bob (Receiver)     | The secret meeting is at 10:00 AM tomorrow. |\n",
            "+--------------------+---------------------------------------------+\n",
            "\n",
            "6. Junk Code Insertion:\n",
            "+--------------------+----------------------------------------------------------------------------------------------------------------------------------+\n",
            "| Perspective        | Message                                                                                                                          |\n",
            "+--------------------+----------------------------------------------------------------------------------------------------------------------------------+\n",
            "| Alice (Sender)     | The secret meeting is at 10:00 AM tomorrow.                                                                                      |\n",
            "| Eve (Eavesdropper) | \u001b[1mTfxghxvqelxi msdyegeckrgejltxn gmheaaeutgithznnsgn ujvinvsg ufautbgi l1wl0vgr:d0gjo0oxc luAtMcyg uotpheoumtnoagrunrtaqoflnwzdc.e\u001b[0m |\n",
            "| Bob (Receiver)     | The secret meeting is at 10:00 AM tomorrow.                                                                                      |\n",
            "+--------------------+----------------------------------------------------------------------------------------------------------------------------------+\n",
            "\n",
            "7. Opaque Predicates:\n",
            "+--------------------+---------------------------------------------+\n",
            "| Perspective        | Message                                     |\n",
            "+--------------------+---------------------------------------------+\n",
            "| Alice (Sender)     | The secret meeting is at 10:00 AM tomorrow. |\n",
            "| Eve (Eavesdropper) | \u001b[1mUif!tfdsfu!nffujoh!jt!bu!21;11!BN!upnpsspx/\u001b[0m |\n",
            "| Bob (Receiver)     | The secret meeting is at 10:00 AM tomorrow. |\n",
            "+--------------------+---------------------------------------------+\n",
            "\n",
            "8. Self-Modifying Code:\n",
            "+--------------------+-----------------------------------------------------------+\n",
            "| Perspective        | Message                                                   |\n",
            "+--------------------+-----------------------------------------------------------+\n",
            "| Alice (Sender)     | The secret meeting is at 10:00 AM tomorrow.               |\n",
            "| Eve (Eavesdropper) | \u001b[1mThe confidential gathering will take place at noon today.\u001b[0m |\n",
            "| Bob (Receiver)     | The secret meeting is at 10:00 AM tomorrow.               |\n",
            "+--------------------+-----------------------------------------------------------+\n",
            "\n",
            "Message Comparison Table:\n",
            "+--------------------+--------------------------------+\n",
            "| Perspective        | Message                        |\n",
            "+--------------------+--------------------------------+\n",
            "| Alice (Sender)     | Orignal message                |\n",
            "| Eve (Eavesdropper) | \u001b[1mObfuscated/Encrypted message\u001b[0m   |\n",
            "| Bob (Receiver)     | Deobfuscated/Decrypted message |\n",
            "+--------------------+--------------------------------+\n",
            "\n",
            "Obfuscation Techniques Table:\n",
            "+-------------------------------+------------------------------------------------------------------------------+------------------------------------------------------------+------------------------------------------------------------------------+\n",
            "| Obfuscation Technique         | Description                                                                  | Anti-Analysis Strengths                                    | Reason for Use                                                         |\n",
            "+-------------------------------+------------------------------------------------------------------------------+------------------------------------------------------------+------------------------------------------------------------------------+\n",
            "| Name Obfuscation              | Renaming variables, functions, and classes to meaningless names              | Makes code harder to understand and follow                 | Protects intellectual property and deters reverse engineering          |\n",
            "| Control Flow Obfuscation      | Modifying control flow with dummy code, opaque predicates, jump tables, etc. | Makes logic harder to follow and analyze                   | Protects proprietary algorithms and hinders reverse engineering        |\n",
            "| String Encryption             | Encrypting string literals and decrypting at runtime                         | Hides sensitive strings and messages                       | Protects sensitive data and evades string-based analysis               |\n",
            "| Packing/Compression           | Compressing code and data into a packed format and decompressing at runtime  | Hinders static analysis and reverse engineering            | Protects intellectual property and reduces file size                   |\n",
            "| Virtualization/Interpretation | Converting code to bytecode for a custom virtual machine or interpreter      | Makes static analysis more difficult and hinders debugging | Protects proprietary algorithms and deters reverse engineering         |\n",
            "| Junk Code Insertion           | Adding non-functional code that doesn't affect the logic                     | Makes analysis harder and increases complexity             | Hinders reverse engineering and deters tampering                       |\n",
            "| Opaque Predicates             | Adding complex conditionals that always evaluate to the same value           | Makes static analysis difficult and hinders understanding  | Protects proprietary algorithms and deters reverse engineering         |\n",
            "| Self-Modifying Code           | Having the program modify its own instructions at runtime                    | Thwarts static analysis and complicates debugging          | Hinders reverse engineering and evades static analysis-based detection |\n",
            "+-------------------------------+------------------------------------------------------------------------------+------------------------------------------------------------+------------------------------------------------------------------------+\n"
          ]
        }
      ]
    }
  ]
}